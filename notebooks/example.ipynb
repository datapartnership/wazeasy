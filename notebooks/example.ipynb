{
 "cells": [
  {
   "cell_type": "markdown",
   "id": "83764a56-5149-43f3-9623-cd9a5f864a48",
   "metadata": {},
   "source": [
    "# Introduction \n",
    "This is a work in progress. Wazeasy package is still under-development"
   ]
  },
  {
   "cell_type": "code",
   "execution_count": 1,
   "id": "2ea83c1f-cc3c-42e4-8eba-c248c862a666",
   "metadata": {},
   "outputs": [],
   "source": [
    "import pandas as pd\n",
    "from datetime import timedelta\n",
    "from datetime import datetime as dt\n",
    "import dask.dataframe as dd\n",
    "from wazeasy import utils\n",
    "import matplotlib.pyplot as plt\n",
    "from shapely import wkt\n",
    "import geopandas as gpd"
   ]
  },
  {
   "cell_type": "code",
   "execution_count": 2,
   "id": "b15ff2fc-b28c-41eb-9a9d-80562d401bb7",
   "metadata": {},
   "outputs": [],
   "source": [
    "storage_options={\"profile\":\"wb_576\"}\n",
    "main_path = 's3://wbg-waze/bq/AR/576buenosaires/jams/'"
   ]
  },
  {
   "cell_type": "code",
   "execution_count": 3,
   "id": "68b8dc6d-9a60-467d-9737-9820ecca2d2c",
   "metadata": {},
   "outputs": [],
   "source": [
    "# ddf = utils.load_data_parquet(main_path, 2023, 11, storage_options)\n",
    "# utils.handle_time(ddf, 'America/Buenos_Aires', parquet = True)"
   ]
  },
  {
   "cell_type": "code",
   "execution_count": 4,
   "id": "d1984c41-7b44-4624-aec0-c697e34a71ab",
   "metadata": {},
   "outputs": [],
   "source": [
    "def get_argentine_working_dates(year = None, month = None, date_range = None):\n",
    "    days = pd.read_excel('/home/sol/Documents/wb/ASA_intermediate_cities/waze/data/Dias habiles.xlsx', dtype={'Fecha': 'str'})\n",
    "    days['Fecha'] = pd.to_datetime(days['Fecha'])\n",
    "    days = days[days['Día Hábil']==1].copy()\n",
    "    if month:\n",
    "        days['year'] = days.Fecha.dt.year\n",
    "        days['month'] = days.Fecha.dt.month\n",
    "        working_days = days[(days['year']==year)&(days['month']==month)]['Fecha'].dt.date\n",
    "    else:\n",
    "        print('Todo')\n",
    "    return working_days.tolist()"
   ]
  },
  {
   "cell_type": "code",
   "execution_count": 5,
   "id": "74a12849-d773-400a-9b0b-0436fe37115e",
   "metadata": {},
   "outputs": [
    {
     "name": "stdout",
     "output_type": "stream",
     "text": [
      "2019\n",
      "2023\n"
     ]
    }
   ],
   "source": [
    "month = 11\n",
    "tables_cities = []\n",
    "tables_streets = []\n",
    "# Todo:adding the cities might necesary and another layer of confidence\n",
    "streets_names = ['Av. Córdoba', 'Av. Corrientes'] #Care must be paid since filtering by names might not be accurate\n",
    "for year in [2019, 2023]:\n",
    "    print(year)\n",
    "    ddf = utils.load_data_parquet(main_path, year, month, storage_options)\n",
    "    utils.handle_time(ddf, 'America/Buenos_Aires', parquet = True)\n",
    "    working_days = get_argentine_working_dates(year, month)\n",
    "    ddf = ddf[ddf['date'].isin(working_days)]\n",
    "    ddf = ddf[ddf['city'].notnull()]\n",
    "    table = utils.get_summary_statistics_city(ddf, year, working_days)\n",
    "    utils.harmonize_data(table)\n",
    "    tables_cities.append(table)\n",
    "\n",
    "    table = utils.get_summary_statistics_street(ddf, streets_names, year, working_days)\n",
    "    tables_streets.append(table)\n",
    "    \n",
    "tables_cities = pd.concat(tables_cities, axis = 1)\n",
    "tables_cities.to_csv('./results/table_cities_ba.csv')\n",
    "\n",
    "tables_streets = pd.concat(tables_streets, axis = 1)\n",
    "tables_streets.to_csv('./results/tables_streets_ba.csv')"
   ]
  },
  {
   "cell_type": "code",
   "execution_count": 29,
   "id": "6d7c6158-3f1a-448a-8550-2d2ef65f2893",
   "metadata": {},
   "outputs": [
    {
     "name": "stdout",
     "output_type": "stream",
     "text": [
      "Street: Av. Córdoba\n"
     ]
    },
    {
     "data": {
      "text/html": [
       "<div>\n",
       "<style scoped>\n",
       "    .dataframe tbody tr th:only-of-type {\n",
       "        vertical-align: middle;\n",
       "    }\n",
       "\n",
       "    .dataframe tbody tr th {\n",
       "        vertical-align: top;\n",
       "    }\n",
       "\n",
       "    .dataframe thead th {\n",
       "        text-align: right;\n",
       "    }\n",
       "</style>\n",
       "<table border=\"1\" class=\"dataframe\">\n",
       "  <thead>\n",
       "    <tr style=\"text-align: right;\">\n",
       "      <th></th>\n",
       "      <th>2019</th>\n",
       "      <th>2023</th>\n",
       "      <th>perc_change</th>\n",
       "    </tr>\n",
       "  </thead>\n",
       "  <tbody>\n",
       "    <tr>\n",
       "      <th>number_of_jams</th>\n",
       "      <td>2284.0</td>\n",
       "      <td>1605.0</td>\n",
       "      <td>-0.297285</td>\n",
       "    </tr>\n",
       "    <tr>\n",
       "      <th>total_jam_length</th>\n",
       "      <td>21766.994</td>\n",
       "      <td>16565.513</td>\n",
       "      <td>-0.238962</td>\n",
       "    </tr>\n",
       "    <tr>\n",
       "      <th>total_jam_length_level_1</th>\n",
       "      <td>199761.0</td>\n",
       "      <td>120304.0</td>\n",
       "      <td>-0.39776</td>\n",
       "    </tr>\n",
       "    <tr>\n",
       "      <th>total_jam_length_level_2</th>\n",
       "      <td>7001699.0</td>\n",
       "      <td>4270575.0</td>\n",
       "      <td>-0.390066</td>\n",
       "    </tr>\n",
       "    <tr>\n",
       "      <th>total_jam_length_level_3</th>\n",
       "      <td>12094489.0</td>\n",
       "      <td>10651928.0</td>\n",
       "      <td>-0.119274</td>\n",
       "    </tr>\n",
       "    <tr>\n",
       "      <th>total_jam_length_level_4</th>\n",
       "      <td>2442335.0</td>\n",
       "      <td>1481844.0</td>\n",
       "      <td>-0.393268</td>\n",
       "    </tr>\n",
       "    <tr>\n",
       "      <th>tci</th>\n",
       "      <td>1088349.7</td>\n",
       "      <td>788833.952381</td>\n",
       "      <td>-0.275202</td>\n",
       "    </tr>\n",
       "  </tbody>\n",
       "</table>\n",
       "</div>"
      ],
      "text/plain": [
       "                                2019           2023 perc_change\n",
       "number_of_jams                2284.0         1605.0   -0.297285\n",
       "total_jam_length           21766.994      16565.513   -0.238962\n",
       "total_jam_length_level_1    199761.0       120304.0    -0.39776\n",
       "total_jam_length_level_2   7001699.0      4270575.0   -0.390066\n",
       "total_jam_length_level_3  12094489.0     10651928.0   -0.119274\n",
       "total_jam_length_level_4   2442335.0      1481844.0   -0.393268\n",
       "tci                        1088349.7  788833.952381   -0.275202"
      ]
     },
     "metadata": {},
     "output_type": "display_data"
    },
    {
     "name": "stdout",
     "output_type": "stream",
     "text": [
      "Street: Av. Corrientes\n"
     ]
    },
    {
     "data": {
      "text/html": [
       "<div>\n",
       "<style scoped>\n",
       "    .dataframe tbody tr th:only-of-type {\n",
       "        vertical-align: middle;\n",
       "    }\n",
       "\n",
       "    .dataframe tbody tr th {\n",
       "        vertical-align: top;\n",
       "    }\n",
       "\n",
       "    .dataframe thead th {\n",
       "        text-align: right;\n",
       "    }\n",
       "</style>\n",
       "<table border=\"1\" class=\"dataframe\">\n",
       "  <thead>\n",
       "    <tr style=\"text-align: right;\">\n",
       "      <th></th>\n",
       "      <th>2019</th>\n",
       "      <th>2023</th>\n",
       "      <th>perc_change</th>\n",
       "    </tr>\n",
       "  </thead>\n",
       "  <tbody>\n",
       "    <tr>\n",
       "      <th>number_of_jams</th>\n",
       "      <td>4036.0</td>\n",
       "      <td>4739.0</td>\n",
       "      <td>0.174182</td>\n",
       "    </tr>\n",
       "    <tr>\n",
       "      <th>total_jam_length</th>\n",
       "      <td>23946.514</td>\n",
       "      <td>19942.105</td>\n",
       "      <td>-0.167223</td>\n",
       "    </tr>\n",
       "    <tr>\n",
       "      <th>total_jam_length_level_1</th>\n",
       "      <td>1459703.0</td>\n",
       "      <td>1273795.0</td>\n",
       "      <td>-0.12736</td>\n",
       "    </tr>\n",
       "    <tr>\n",
       "      <th>total_jam_length_level_2</th>\n",
       "      <td>7378661.0</td>\n",
       "      <td>6476569.0</td>\n",
       "      <td>-0.122257</td>\n",
       "    </tr>\n",
       "    <tr>\n",
       "      <th>total_jam_length_level_3</th>\n",
       "      <td>13544277.0</td>\n",
       "      <td>10870366.0</td>\n",
       "      <td>-0.19742</td>\n",
       "    </tr>\n",
       "    <tr>\n",
       "      <th>total_jam_length_level_4</th>\n",
       "      <td>1029586.0</td>\n",
       "      <td>1158578.0</td>\n",
       "      <td>0.125285</td>\n",
       "    </tr>\n",
       "    <tr>\n",
       "      <th>tci</th>\n",
       "      <td>1197325.7</td>\n",
       "      <td>949624.047619</td>\n",
       "      <td>-0.206879</td>\n",
       "    </tr>\n",
       "  </tbody>\n",
       "</table>\n",
       "</div>"
      ],
      "text/plain": [
       "                                2019           2023 perc_change\n",
       "number_of_jams                4036.0         4739.0    0.174182\n",
       "total_jam_length           23946.514      19942.105   -0.167223\n",
       "total_jam_length_level_1   1459703.0      1273795.0    -0.12736\n",
       "total_jam_length_level_2   7378661.0      6476569.0   -0.122257\n",
       "total_jam_length_level_3  13544277.0     10870366.0    -0.19742\n",
       "total_jam_length_level_4   1029586.0      1158578.0    0.125285\n",
       "tci                        1197325.7  949624.047619   -0.206879"
      ]
     },
     "metadata": {},
     "output_type": "display_data"
    }
   ],
   "source": [
    "rows = ['number_of_jams', 'total_jam_length', 'total_jam_length_level_1', 'total_jam_length_level_2', 'total_jam_length_level_3', \n",
    "        'total_jam_length_level_4', 'tci']\n",
    "columns = [2019, 2023]\n",
    "\n",
    "for street in streets_names:\n",
    "    print('Street: {}'.format(street))\n",
    "    d = pd.DataFrame(index = rows, columns = columns)\n",
    "    for row in rows:\n",
    "        for col in columns:\n",
    "            d.loc[row, col] = tables_streets.loc[street][row+str(col)]\n",
    "    d['perc_change'] = (d[2023]-d[2019])/d[2019]\n",
    "    display(d)"
   ]
  },
  {
   "cell_type": "code",
   "execution_count": null,
   "id": "046e290e-3887-45a9-b86d-0f8a589450a9",
   "metadata": {},
   "outputs": [],
   "source": [
    "rows = ['number_of_jams', 'total_jam_length', 'total_jam_length_level_1', 'total_jam_length_level_2', 'total_jam_length_level_3', \n",
    "        'total_jam_length_level_4', 'tci']\n",
    "columns = [2019, 2023]\n",
    "\n",
    "for street in streets_names:\n",
    "    print('Street: {}'.format(street))\n",
    "    d = pd.DataFrame(index = rows, columns = columns)\n",
    "    for row in rows:\n",
    "        for col in columns:\n",
    "            d.loc[row, col] = tables_streets.loc[street][row+str(col)]\n",
    "    d['perc_change'] = (d[2023]-d[2019])/d[2019]\n",
    "    display(d)"
   ]
  },
  {
   "cell_type": "code",
   "execution_count": 40,
   "id": "41089eff-38ef-4f2c-a1b5-f98ef08586be",
   "metadata": {},
   "outputs": [
    {
     "name": "stdout",
     "output_type": "stream",
     "text": [
      "Street: Palermo\n"
     ]
    },
    {
     "data": {
      "text/html": [
       "<div>\n",
       "<style scoped>\n",
       "    .dataframe tbody tr th:only-of-type {\n",
       "        vertical-align: middle;\n",
       "    }\n",
       "\n",
       "    .dataframe tbody tr th {\n",
       "        vertical-align: top;\n",
       "    }\n",
       "\n",
       "    .dataframe thead th {\n",
       "        text-align: right;\n",
       "    }\n",
       "</style>\n",
       "<table border=\"1\" class=\"dataframe\">\n",
       "  <thead>\n",
       "    <tr style=\"text-align: right;\">\n",
       "      <th></th>\n",
       "      <th>2019</th>\n",
       "      <th>2023</th>\n",
       "      <th>perc_change</th>\n",
       "    </tr>\n",
       "  </thead>\n",
       "  <tbody>\n",
       "    <tr>\n",
       "      <th>number_of_jams</th>\n",
       "      <td>29839.0</td>\n",
       "      <td>36029.0</td>\n",
       "      <td>0.207447</td>\n",
       "    </tr>\n",
       "    <tr>\n",
       "      <th>total_jam_length</th>\n",
       "      <td>71891.165</td>\n",
       "      <td>81182.718</td>\n",
       "      <td>0.129245</td>\n",
       "    </tr>\n",
       "    <tr>\n",
       "      <th>total_jam_length_level_1</th>\n",
       "      <td>1375465.0</td>\n",
       "      <td>2763545.0</td>\n",
       "      <td>1.009171</td>\n",
       "    </tr>\n",
       "    <tr>\n",
       "      <th>total_jam_length_level_2</th>\n",
       "      <td>25100931.0</td>\n",
       "      <td>24640263.0</td>\n",
       "      <td>-0.018353</td>\n",
       "    </tr>\n",
       "    <tr>\n",
       "      <th>total_jam_length_level_3</th>\n",
       "      <td>39174620.0</td>\n",
       "      <td>44363410.0</td>\n",
       "      <td>0.132453</td>\n",
       "    </tr>\n",
       "    <tr>\n",
       "      <th>total_jam_length_level_4</th>\n",
       "      <td>5525526.0</td>\n",
       "      <td>8085597.0</td>\n",
       "      <td>0.463317</td>\n",
       "    </tr>\n",
       "    <tr>\n",
       "      <th>tci</th>\n",
       "      <td>3594558.25</td>\n",
       "      <td>3865843.714286</td>\n",
       "      <td>0.075471</td>\n",
       "    </tr>\n",
       "  </tbody>\n",
       "</table>\n",
       "</div>"
      ],
      "text/plain": [
       "                                2019            2023 perc_change\n",
       "number_of_jams               29839.0         36029.0    0.207447\n",
       "total_jam_length           71891.165       81182.718    0.129245\n",
       "total_jam_length_level_1   1375465.0       2763545.0    1.009171\n",
       "total_jam_length_level_2  25100931.0      24640263.0   -0.018353\n",
       "total_jam_length_level_3  39174620.0      44363410.0    0.132453\n",
       "total_jam_length_level_4   5525526.0       8085597.0    0.463317\n",
       "tci                       3594558.25  3865843.714286    0.075471"
      ]
     },
     "metadata": {},
     "output_type": "display_data"
    }
   ],
   "source": [
    "for city in ['Palermo']:\n",
    "    print('Street: {}'.format(city))\n",
    "    d = pd.DataFrame(index = rows, columns = columns)\n",
    "    for row in rows:\n",
    "        for col in columns:\n",
    "            d.loc[row, col] = tables_cities.loc[city][row+str(col)]\n",
    "    d['perc_change'] = (d[2023]-d[2019])/d[2019]\n",
    "    display(d)"
   ]
  },
  {
   "cell_type": "code",
   "execution_count": null,
   "id": "5c436cb8-e3ff-4d73-bade-cf82bbc0d398",
   "metadata": {},
   "outputs": [],
   "source": []
  }
 ],
 "metadata": {
  "kernelspec": {
   "display_name": "venv",
   "language": "python",
   "name": "venv"
  },
  "language_info": {
   "codemirror_mode": {
    "name": "ipython",
    "version": 3
   },
   "file_extension": ".py",
   "mimetype": "text/x-python",
   "name": "python",
   "nbconvert_exporter": "python",
   "pygments_lexer": "ipython3",
   "version": "3.10.12"
  }
 },
 "nbformat": 4,
 "nbformat_minor": 5
}
